{
 "cells": [
  {
   "cell_type": "markdown",
   "metadata": {},
   "source": [
    "# Universidad del Valle de Guatemala\n",
    "18 Avenida 11-95 Guatemala      \n",
    "Departamento de Computación     \n",
    "Facultad de Ingeniería       \n",
    "Minería de Datos Sección 10         \n",
    "Fecha de entrega: 13/03/2024        \n",
    "\n",
    "Grupo 1 | Integrantes:\n",
    "- Diego Alexander Hernández Silvestre 21270\n",
    "- Linda Inés Jimenez Vides 21169\n",
    "- Mario Antonio Guerra Morales 21008\n",
    "- Kristopher Javier Alvarado Lopez 21188\n",
    "- David Jonathan Aragon Vasquez 21053\n",
    "\n",
    "## Proyecto 1\n",
    "Para realizar una exploración inicial del conjunto de datos, se prodeció a realizar un resumen de la información proporcionada en el dataset del archivo \"*owid-co2-data.csv*\". A continuación se muestran los resultados: "
   ]
  },
  {
   "cell_type": "code",
   "execution_count": 29,
   "metadata": {},
   "outputs": [],
   "source": [
    "import pandas as pd\n",
    "from typing import *\n",
    "from sklearn.cluster import KMeans\n",
    "from sklearn.metrics import silhouette_score"
   ]
  },
  {
   "cell_type": "code",
   "execution_count": null,
   "metadata": {},
   "outputs": [],
   "source": [
    "dataframe: pd.DataFrame = pd.read_csv(\"owid-co2-data.csv\",  encoding='ISO-8859-1')\n",
    "infoSumary = dataframe.info() #Mostrar información del tipo de variables utilizadas"
   ]
  },
  {
   "cell_type": "code",
   "execution_count": null,
   "metadata": {},
   "outputs": [],
   "source": [
    "dataframe.columns #Se muestran las columnas del dataframe."
   ]
  },
  {
   "cell_type": "code",
   "execution_count": null,
   "metadata": {},
   "outputs": [],
   "source": [
    "dataframe.describe() #Se describen las características principales de las variables cuantitativas del dataframe."
   ]
  },
  {
   "cell_type": "code",
   "execution_count": 31,
   "metadata": {},
   "outputs": [],
   "source": [
    "# Seleccionar solo las columnas numéricas en el DataFrame\n",
    "numeric_columns = dataframe.select_dtypes(include='number').columns\n",
    "\n",
    "# Aplicar la conversión a media solo a las columnas numéricas\n",
    "dataframe[numeric_columns] = dataframe[numeric_columns].fillna(dataframe[numeric_columns].mean())"
   ]
  },
  {
   "cell_type": "code",
   "execution_count": null,
   "metadata": {},
   "outputs": [],
   "source": [
    "# Configurar las opciones de visualización para mostrar todas las filas y columnas\n",
    "pd.set_option('display.max_rows', None)\n",
    "pd.set_option('display.max_columns', None)\n",
    "\n",
    "# Mostrar todo el DataFrame\n",
    "print(dataframe)\n",
    "\n",
    "# Restaurar las opciones de visualización por defecto (opcional)\n",
    "pd.reset_option('display.max_rows')\n",
    "pd.reset_option('display.max_columns')"
   ]
  },
  {
   "cell_type": "code",
   "execution_count": null,
   "metadata": {},
   "outputs": [],
   "source": [
    "#Gráficos exploratorios del CO2.\n",
    "\n",
    "import seaborn as sns\n",
    "import matplotlib.pyplot as plt\n",
    "\n",
    "sns.boxplot(data=dataframe['co2'])\n",
    "plt.title(\"Diagrama de Caja de CO2\")\n",
    "plt.show()\n",
    "\n",
    "dataframe['co2'].hist()\n",
    "plt.title(\"Histograma de CO2\")\n",
    "plt.show()"
   ]
  },
  {
   "cell_type": "code",
   "execution_count": null,
   "metadata": {},
   "outputs": [],
   "source": [
    "#Gráficos exploratorios del Metano.\n",
    "\n",
    "sns.boxplot(data=dataframe['methane'])\n",
    "plt.title(\"Diagrama de Caja del Metano\")\n",
    "plt.show()\n"
   ]
  }
 ],
 "metadata": {
  "kernelspec": {
   "display_name": "Python 3",
   "language": "python",
   "name": "python3"
  },
  "language_info": {
   "codemirror_mode": {
    "name": "ipython",
    "version": 3
   },
   "file_extension": ".py",
   "mimetype": "text/x-python",
   "name": "python",
   "nbconvert_exporter": "python",
   "pygments_lexer": "ipython3",
   "version": "3.11.8"
  }
 },
 "nbformat": 4,
 "nbformat_minor": 2
}
